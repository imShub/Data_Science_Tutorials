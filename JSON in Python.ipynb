{
 "cells": [
  {
   "cell_type": "code",
   "execution_count": 1,
   "id": "d72d0ce7",
   "metadata": {},
   "outputs": [],
   "source": [
    "import json"
   ]
  },
  {
   "cell_type": "code",
   "execution_count": 5,
   "id": "1fd7de0d",
   "metadata": {},
   "outputs": [],
   "source": [
    "json_data = '{\"a\":1,\"b\":2,\"c\":3,\"d\":4,\"e\":5}'"
   ]
  },
  {
   "cell_type": "code",
   "execution_count": 6,
   "id": "505546b9",
   "metadata": {},
   "outputs": [],
   "source": [
    "x = json.loads(json_data)"
   ]
  },
  {
   "cell_type": "code",
   "execution_count": 11,
   "id": "be3d73e1",
   "metadata": {},
   "outputs": [
    {
     "data": {
      "text/plain": [
       "1"
      ]
     },
     "execution_count": 11,
     "metadata": {},
     "output_type": "execute_result"
    }
   ],
   "source": [
    "x['a']"
   ]
  },
  {
   "cell_type": "code",
   "execution_count": 13,
   "id": "9bb28db2",
   "metadata": {},
   "outputs": [
    {
     "data": {
      "text/plain": [
       "4"
      ]
     },
     "execution_count": 13,
     "metadata": {},
     "output_type": "execute_result"
    }
   ],
   "source": [
    "x['d']"
   ]
  },
  {
   "cell_type": "code",
   "execution_count": 14,
   "id": "38246b61",
   "metadata": {},
   "outputs": [],
   "source": [
    "json_sample = '''\n",
    "    {  \n",
    "        \"employee\": {  \n",
    "            \"name\":       \"sonoo\",   \n",
    "            \"salary\":      56000,   \n",
    "            \"married\":    true  \n",
    "        }  \n",
    "    }  \n",
    "'''"
   ]
  },
  {
   "cell_type": "code",
   "execution_count": 15,
   "id": "349fd167",
   "metadata": {},
   "outputs": [
    {
     "data": {
      "text/plain": [
       "'\\n    {  \\n        \"employee\": {  \\n            \"name\":       \"sonoo\",   \\n            \"salary\":      56000,   \\n            \"married\":    true  \\n        }  \\n    }  \\n'"
      ]
     },
     "execution_count": 15,
     "metadata": {},
     "output_type": "execute_result"
    }
   ],
   "source": [
    "json_sample"
   ]
  },
  {
   "cell_type": "code",
   "execution_count": 16,
   "id": "36c6dc2e",
   "metadata": {},
   "outputs": [],
   "source": [
    "y = json.loads(json_sample)"
   ]
  },
  {
   "cell_type": "code",
   "execution_count": 17,
   "id": "32991b7d",
   "metadata": {},
   "outputs": [
    {
     "data": {
      "text/plain": [
       "{'employee': {'name': 'sonoo', 'salary': 56000, 'married': True}}"
      ]
     },
     "execution_count": 17,
     "metadata": {},
     "output_type": "execute_result"
    }
   ],
   "source": [
    "y"
   ]
  },
  {
   "cell_type": "code",
   "execution_count": 18,
   "id": "fcf4efef",
   "metadata": {},
   "outputs": [],
   "source": [
    "with open('2.json', 'w') as f:\n",
    "    json.dump(y, f)"
   ]
  },
  {
   "cell_type": "code",
   "execution_count": 19,
   "id": "a91c376a",
   "metadata": {},
   "outputs": [
    {
     "data": {
      "text/plain": [
       "{'name': 'sonoo', 'salary': 56000, 'married': True}"
      ]
     },
     "execution_count": 19,
     "metadata": {},
     "output_type": "execute_result"
    }
   ],
   "source": [
    "y['employee']"
   ]
  },
  {
   "cell_type": "code",
   "execution_count": 20,
   "id": "a12aabe4",
   "metadata": {},
   "outputs": [
    {
     "data": {
      "text/plain": [
       "'sonoo'"
      ]
     },
     "execution_count": 20,
     "metadata": {},
     "output_type": "execute_result"
    }
   ],
   "source": [
    " y['employee']['name']"
   ]
  },
  {
   "cell_type": "code",
   "execution_count": null,
   "id": "b346ad45",
   "metadata": {},
   "outputs": [],
   "source": []
  }
 ],
 "metadata": {
  "kernelspec": {
   "display_name": "Python 3 (ipykernel)",
   "language": "python",
   "name": "python3"
  },
  "language_info": {
   "codemirror_mode": {
    "name": "ipython",
    "version": 3
   },
   "file_extension": ".py",
   "mimetype": "text/x-python",
   "name": "python",
   "nbconvert_exporter": "python",
   "pygments_lexer": "ipython3",
   "version": "3.9.7"
  }
 },
 "nbformat": 4,
 "nbformat_minor": 5
}
